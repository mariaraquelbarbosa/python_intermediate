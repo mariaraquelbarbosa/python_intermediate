{
 "cells": [
  {
   "cell_type": "markdown",
   "id": "f54330e3",
   "metadata": {},
   "source": [
    "# 1- Generators no Pandas\n",
    "\n",
    "Podemos 'iterar' as  linhas de um DataFrame através da função iterrowsw(), dessa maneira podemos acessar sucessivamente o conteúdo das linhas através da função next()\n"
   ]
  },
  {
   "cell_type": "code",
   "execution_count": 3,
   "id": "33c6c38f",
   "metadata": {},
   "outputs": [
    {
     "name": "stdout",
     "output_type": "stream",
     "text": [
      "(0, Nome         Carlos\n",
      "Idade            23\n",
      "Origem      Vinhedo\n",
      "Curso      Economia\n",
      "Período     Noturno\n",
      "Name: 0, dtype: object)\n",
      "\n",
      "(1, Nome              Cinthya\n",
      "Idade                  19\n",
      "Origem     Belo Horizonte\n",
      "Curso            Economia\n",
      "Período            Diurno\n",
      "Name: 1, dtype: object)\n",
      "\n",
      "(2, Nome           Maria\n",
      "Idade             22\n",
      "Origem     São Paulo\n",
      "Curso            Adm\n",
      "Período       Diurno\n",
      "Name: 2, dtype: object)\n",
      "\n",
      "(3, Nome        Lorenzo\n",
      "Idade            19\n",
      "Origem     Curitiba\n",
      "Curso      Economia\n",
      "Período      Diurno\n",
      "Name: 3, dtype: object)\n"
     ]
    }
   ],
   "source": [
    "### Criando o DataFrame:###\n",
    "import pandas as pd\n",
    "import time\n",
    "import numpy as np\n",
    "dados = [['Carlos', 23, 'Vinhedo', 'Economia', 'Noturno'],\n",
    "     ['Cinthya', 19, 'Belo Horizonte', 'Economia', 'Diurno'],\n",
    "     ['Maria', 22, 'São Paulo', 'Adm', 'Diurno'],\n",
    "     ['Lorenzo', 19, 'Curitiba', 'Economia', 'Diurno']]\n",
    "dataframe = pd.DataFrame(dados, columns=['Nome', 'Idade', 'Origem', 'Curso', 'Período'])\n",
    "\n",
    "###Criando um generator para 'iterar' as linhas do DataFrame###\n",
    "generator = dataframe.iterrows()\n",
    "\n",
    "###Acessando os itens das linhas do iterador através da função next()###\n",
    "primeiro = next(generator)\n",
    "segundo = next(generator)\n",
    "terceiro = next(generator)\n",
    "quarto = next(generator)\n",
    "print(f'{primeiro}\\n\\n{segundo}\\n\\n{terceiro}\\n\\n{quarto}')\n",
    "\n"
   ]
  },
  {
   "cell_type": "code",
   "execution_count": 16,
   "id": "266b7784",
   "metadata": {},
   "outputs": [
    {
     "name": "stdout",
     "output_type": "stream",
     "text": [
      "['Cinthya']\n",
      "['Lorenzo']\n"
     ]
    }
   ],
   "source": [
    "###Usando o for looping para função iterrows()### \n",
    "generator = dataframe.iterrows()\n",
    "\n",
    "for index, values in generator:\n",
    "    #checa se o índice é ímpar#\n",
    "    if index % 2 != 0:\n",
    "    #Escreve os itens de índice ímpar contidos na coluna 0#\n",
    "        print([values[0]])\n"
   ]
  },
  {
   "cell_type": "code",
   "execution_count": 112,
   "id": "ed069f05",
   "metadata": {},
   "outputs": [
    {
     "data": {
      "text/html": [
       "<div>\n",
       "<style scoped>\n",
       "    .dataframe tbody tr th:only-of-type {\n",
       "        vertical-align: middle;\n",
       "    }\n",
       "\n",
       "    .dataframe tbody tr th {\n",
       "        vertical-align: top;\n",
       "    }\n",
       "\n",
       "    .dataframe thead th {\n",
       "        text-align: right;\n",
       "    }\n",
       "</style>\n",
       "<table border=\"1\" class=\"dataframe\">\n",
       "  <thead>\n",
       "    <tr style=\"text-align: right;\">\n",
       "      <th></th>\n",
       "      <th>Nome</th>\n",
       "      <th>Idade</th>\n",
       "      <th>Origem</th>\n",
       "      <th>Curso</th>\n",
       "      <th>Período</th>\n",
       "    </tr>\n",
       "  </thead>\n",
       "  <tbody>\n",
       "    <tr>\n",
       "      <th>0</th>\n",
       "      <td>Carlos</td>\n",
       "      <td>23</td>\n",
       "      <td>Vinhedo</td>\n",
       "      <td>Economia</td>\n",
       "      <td>Noturno</td>\n",
       "    </tr>\n",
       "    <tr>\n",
       "      <th>1</th>\n",
       "      <td>Cinthya</td>\n",
       "      <td>19</td>\n",
       "      <td>Belo Horizonte</td>\n",
       "      <td>Economia</td>\n",
       "      <td>Diurno</td>\n",
       "    </tr>\n",
       "    <tr>\n",
       "      <th>2</th>\n",
       "      <td>Maria</td>\n",
       "      <td>22</td>\n",
       "      <td>São Paulo</td>\n",
       "      <td>Adm</td>\n",
       "      <td>Diurno</td>\n",
       "    </tr>\n",
       "    <tr>\n",
       "      <th>3</th>\n",
       "      <td>Lorenzo</td>\n",
       "      <td>19</td>\n",
       "      <td>Curitiba</td>\n",
       "      <td>Economia</td>\n",
       "      <td>Diurno</td>\n",
       "    </tr>\n",
       "  </tbody>\n",
       "</table>\n",
       "</div>"
      ],
      "text/plain": [
       "      Nome  Idade          Origem     Curso  Período\n",
       "0   Carlos     23         Vinhedo  Economia  Noturno\n",
       "1  Cinthya     19  Belo Horizonte  Economia   Diurno\n",
       "2    Maria     22       São Paulo       Adm   Diurno\n",
       "3  Lorenzo     19        Curitiba  Economia   Diurno"
      ]
     },
     "execution_count": 112,
     "metadata": {},
     "output_type": "execute_result"
    }
   ],
   "source": [
    "###Mostrando o dataframe, para vermos a diferença na visualização dos dados###\n",
    "\n",
    "dataframe"
   ]
  },
  {
   "cell_type": "markdown",
   "id": "3cc93c3c",
   "metadata": {},
   "source": [
    "Após usar esse 'truque', é possível realizar operações "
   ]
  },
  {
   "cell_type": "markdown",
   "id": "a9bae681",
   "metadata": {},
   "source": [
    "# 2 - Função apply()\n",
    "\n",
    "Essa função permite aplicar uma função para todas as células de um DataFrame, também podemos aplicar para certas colunas e linhas quando determinado."
   ]
  },
  {
   "cell_type": "code",
   "execution_count": 242,
   "id": "065e27ba",
   "metadata": {},
   "outputs": [
    {
     "name": "stdout",
     "output_type": "stream",
     "text": [
      "0    529\n",
      "1    361\n",
      "2    484\n",
      "3    361\n",
      "Name: Idade, dtype: int64\n"
     ]
    }
   ],
   "source": [
    "###Usando o apply() para aplicar uma função que eleva os dados da coluna 'Idade' ao quadrado###\n",
    "quadrado = lambda x: x**2\n",
    "idade_quadrado = dataframe['Idade'].apply(quadrado)\n",
    "\n",
    "\n",
    "print(idade_quadrado)\n",
    "    \n",
    "              \n",
    "    "
   ]
  },
  {
   "cell_type": "markdown",
   "id": "e89d9edd",
   "metadata": {},
   "source": [
    "# 3- Vetorização \n",
    "\n",
    "A vetorização que permite realizar operações em arrays, aumentando a facilidade em trabalhar com diferentes eixos, usando uma quantidade menor de operações e consequentemente otimizando o tempo de processamento.\n",
    "\n"
   ]
  },
  {
   "cell_type": "code",
   "execution_count": 19,
   "id": "b231410c",
   "metadata": {},
   "outputs": [
    {
     "name": "stdout",
     "output_type": "stream",
     "text": [
      "\n",
      "\n",
      "DataFrame padrão:\n",
      "\n",
      "\n",
      "      Nome  Idade          Origem     Curso  Período\n",
      "0   Carlos     23         Vinhedo  Economia  Noturno\n",
      "1  Cinthya     19  Belo Horizonte  Economia   Diurno\n",
      "2    Maria     22       São Paulo       Adm   Diurno\n",
      "3  Lorenzo     19        Curitiba  Economia   Diurno\n",
      "\n",
      "\n",
      "\n",
      "\n",
      "Utilizando a função de média na array idade:\n",
      "\n",
      "\n",
      "\n",
      "Idade    20.75\n",
      "dtype: float64\n",
      "\n",
      "\n",
      "\n",
      "\n",
      "Aplicando soma entre elementos com mesmo índice de duas arrays:\n",
      "\n",
      "\n",
      "\n",
      "0            CarlosVinhedo\n",
      "1    CinthyaBelo Horizonte\n",
      "2           MariaSão Paulo\n",
      "3          LorenzoCuritiba\n",
      "dtype: object\n"
     ]
    }
   ],
   "source": [
    "print(f'\\n\\nDataFrame padrão:\\n\\n\\n{dataframe}\\n\\n\\n\\n\\nUtilizando a função de média na array idade:\\n\\n\\n')\n",
    "\n",
    "###Realizando a operação de média sobre toda a array 'Idade' (eixo=0).###\n",
    "\n",
    "dataframe_2 = dataframe[['Idade']].mean(axis=0)\n",
    "\n",
    "print(f'{dataframe_2}\\n\\n\\n\\n\\nAplicando soma entre elementos com mesmo índice de duas arrays:\\n\\n\\n')\n",
    "\n",
    "###Realizando a operação de soma entre as arrays 'Nome' e 'Origem', levando em conta seus índices (eixo=1)###\n",
    "\n",
    "dataframe_4 = dataframe[['Nome', 'Origem']].sum(axis=1)\n",
    "print(f'{dataframe_4}')\n",
    "\n",
    "\n",
    "\n"
   ]
  },
  {
   "cell_type": "markdown",
   "id": "131defec",
   "metadata": {},
   "source": [
    "# 4- Transformação de dados através de groupby()\n",
    "O método transform() permite aplicar uma função para cada valor de um DataFrame, no caso, iremos aplicar a função para cada valor agrupado"
   ]
  },
  {
   "cell_type": "code",
   "execution_count": 18,
   "id": "baa10624",
   "metadata": {},
   "outputs": [
    {
     "name": "stdout",
     "output_type": "stream",
     "text": [
      "0    20.333333\n",
      "1    20.333333\n",
      "2    22.000000\n",
      "3    20.333333\n",
      "Name: Idade, dtype: float64\n",
      "\n",
      "\n",
      "\n"
     ]
    },
    {
     "data": {
      "text/html": [
       "<div>\n",
       "<style scoped>\n",
       "    .dataframe tbody tr th:only-of-type {\n",
       "        vertical-align: middle;\n",
       "    }\n",
       "\n",
       "    .dataframe tbody tr th {\n",
       "        vertical-align: top;\n",
       "    }\n",
       "\n",
       "    .dataframe thead th {\n",
       "        text-align: right;\n",
       "    }\n",
       "</style>\n",
       "<table border=\"1\" class=\"dataframe\">\n",
       "  <thead>\n",
       "    <tr style=\"text-align: right;\">\n",
       "      <th></th>\n",
       "      <th>mean</th>\n",
       "    </tr>\n",
       "    <tr>\n",
       "      <th>Curso</th>\n",
       "      <th></th>\n",
       "    </tr>\n",
       "  </thead>\n",
       "  <tbody>\n",
       "    <tr>\n",
       "      <th>Adm</th>\n",
       "      <td>22.000000</td>\n",
       "    </tr>\n",
       "    <tr>\n",
       "      <th>Economia</th>\n",
       "      <td>20.333333</td>\n",
       "    </tr>\n",
       "  </tbody>\n",
       "</table>\n",
       "</div>"
      ],
      "text/plain": [
       "               mean\n",
       "Curso              \n",
       "Adm       22.000000\n",
       "Economia  20.333333"
      ]
     },
     "execution_count": 18,
     "metadata": {},
     "output_type": "execute_result"
    }
   ],
   "source": [
    "###Método transform()###\n",
    "#Uma transformação aplicada aos dados das idades agrupadas por curso###\n",
    "idade_media = lambda x: x.mean()\n",
    "bixos = dataframe.groupby(['Curso'])['Idade'].transform(idade_media)\n",
    "print(f'{bixos}\\n\\n\\n')\n",
    "\n",
    "\n",
    "###Método agregate###\n",
    "#Mesma coisa só que melhor#\n",
    "idade_media = lambda x: x.sum() / len(x)\n",
    "bixos1 = dataframe.groupby(['Curso'])['Idade'].agg(['mean'])\n",
    "bixos1\n",
    "\n",
    "\n",
    "\n",
    "\n"
   ]
  },
  {
   "cell_type": "markdown",
   "id": "bd2e5fa4",
   "metadata": {},
   "source": [
    "# 5- Filtragem de dados pelo método filter()\n"
   ]
  },
  {
   "cell_type": "code",
   "execution_count": 186,
   "id": "654a0f96",
   "metadata": {},
   "outputs": [
    {
     "data": {
      "text/html": [
       "<div>\n",
       "<style scoped>\n",
       "    .dataframe tbody tr th:only-of-type {\n",
       "        vertical-align: middle;\n",
       "    }\n",
       "\n",
       "    .dataframe tbody tr th {\n",
       "        vertical-align: top;\n",
       "    }\n",
       "\n",
       "    .dataframe thead th {\n",
       "        text-align: right;\n",
       "    }\n",
       "</style>\n",
       "<table border=\"1\" class=\"dataframe\">\n",
       "  <thead>\n",
       "    <tr style=\"text-align: right;\">\n",
       "      <th></th>\n",
       "      <th>Nome</th>\n",
       "      <th>Idade</th>\n",
       "      <th>Origem</th>\n",
       "      <th>Curso</th>\n",
       "      <th>Período</th>\n",
       "    </tr>\n",
       "  </thead>\n",
       "  <tbody>\n",
       "    <tr>\n",
       "      <th>0</th>\n",
       "      <td>Carlos</td>\n",
       "      <td>23</td>\n",
       "      <td>Vinhedo</td>\n",
       "      <td>Economia</td>\n",
       "      <td>Noturno</td>\n",
       "    </tr>\n",
       "    <tr>\n",
       "      <th>2</th>\n",
       "      <td>Maria</td>\n",
       "      <td>22</td>\n",
       "      <td>São Paulo</td>\n",
       "      <td>Adm</td>\n",
       "      <td>Diurno</td>\n",
       "    </tr>\n",
       "  </tbody>\n",
       "</table>\n",
       "</div>"
      ],
      "text/plain": [
       "     Nome  Idade     Origem     Curso  Período\n",
       "0  Carlos     23    Vinhedo  Economia  Noturno\n",
       "2   Maria     22  São Paulo       Adm   Diurno"
      ]
     },
     "execution_count": 186,
     "metadata": {},
     "output_type": "execute_result"
    }
   ],
   "source": [
    "###Iremos filtrar os dados, pegando somente informações de quem tem mais de 19 anos###\n",
    "\n",
    "idade_19 = dataframe.groupby('Nome').filter(lambda x: x['Idade'] > 19)\n",
    "idade_19"
   ]
  }
 ],
 "metadata": {
  "kernelspec": {
   "display_name": "Python 3 (ipykernel)",
   "language": "python",
   "name": "python3"
  },
  "language_info": {
   "codemirror_mode": {
    "name": "ipython",
    "version": 3
   },
   "file_extension": ".py",
   "mimetype": "text/x-python",
   "name": "python",
   "nbconvert_exporter": "python",
   "pygments_lexer": "ipython3",
   "version": "3.9.13"
  }
 },
 "nbformat": 4,
 "nbformat_minor": 5
}
